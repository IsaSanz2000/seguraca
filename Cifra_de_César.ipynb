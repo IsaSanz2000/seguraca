{
  "nbformat": 4,
  "nbformat_minor": 0,
  "metadata": {
    "colab": {
      "provenance": [],
      "authorship_tag": "ABX9TyPWqmSIF45m79yCxOMa3Iqk",
      "include_colab_link": true
    },
    "kernelspec": {
      "name": "python3",
      "display_name": "Python 3"
    },
    "language_info": {
      "name": "python"
    }
  },
  "cells": [
    {
      "cell_type": "markdown",
      "metadata": {
        "id": "view-in-github",
        "colab_type": "text"
      },
      "source": [
        "<a href=\"https://colab.research.google.com/github/IsaSanz2000/seguraca/blob/main/Cifra_de_C%C3%A9sar.ipynb\" target=\"_parent\"><img src=\"https://colab.research.google.com/assets/colab-badge.svg\" alt=\"Open In Colab\"/></a>"
      ]
    },
    {
      "cell_type": "code",
      "execution_count": null,
      "metadata": {
        "colab": {
          "base_uri": "https://localhost:8080/"
        },
        "id": "T58j8JU0bj6z",
        "outputId": "feca4b6d-0abc-468a-96d0-7f8141a798eb"
      },
      "outputs": [
        {
          "output_type": "stream",
          "name": "stdout",
          "text": [
            "Digite a mensagem: RNQMT\n",
            "Digite a rotação: 5\n",
            "Digite 'e' para encriptar ou 'd' para descriptografar: d\n",
            "Texto descriptografado: MILHO\n"
          ]
        }
      ],
      "source": [
        "def cifra_cesar(texto, rotacao, modo='encriptar'):\n",
        "  \"\"\"\n",
        "  Criptografa ou descriptografa uma mensagem usando a cifra de César.\n",
        "\n",
        "  Args:\n",
        "    texto: A mensagem a ser criptografada ou descriptografada.\n",
        "    rotacao: O número de posições para deslocar as letras no alfabeto.\n",
        "    modo: 'encriptar' para criptografar, 'decriptar' para descriptografar.\n",
        "\n",
        "  Returns:\n",
        "    A mensagem criptografada ou descriptografada.\n",
        "  \"\"\"\n",
        "\n",
        "  resultado = \"\"\n",
        "  alfabeto = \"ABCDEFGHIJKLMNOPQRSTUVWXYZ\"\n",
        "\n",
        "  for letra in texto.upper():\n",
        "    if letra in alfabeto:\n",
        "      indice = (alfabeto.find(letra) + rotacao * (-1 if modo == 'decriptar' else 1)) % 26\n",
        "      resultado += alfabeto[indice]\n",
        "    else:\n",
        "      resultado += letra\n",
        "\n",
        "  return resultado\n",
        "\n",
        "if __name__ == \"__main__\":\n",
        "  texto = input(\"Digite a mensagem: \")\n",
        "  rotacao = int(input(\"Digite a rotação: \"))\n",
        "  modo = input(\"Digite 'e' para encriptar ou 'd' para descriptografar: \")\n",
        "\n",
        "  if modo == 'e':\n",
        "      resultado = cifra_cesar(texto, rotacao)\n",
        "      print(\"Texto criptografado:\", resultado)\n",
        "  elif modo == 'd':\n",
        "      resultado = cifra_cesar(texto, rotacao, modo='decriptar')\n",
        "      print(\"Texto descriptografado:\", resultado)\n",
        "  else:\n",
        "      print(\"Modo inválido.\")"
      ]
    },
    {
      "cell_type": "markdown",
      "source": [
        "Função cifra_cesar:\n",
        "\n",
        "A função agora recebe um parâmetro rotacao que indica o número de posições a serem deslocadas.\n",
        "A lógica para calcular o novo índice da letra no alfabeto foi simplificada usando um operador ternário para determinar o sinal da rotação.\n",
        "Entrada do Usuário:\n",
        "\n",
        "O programa solicita a mensagem, a rotação e o modo de operação.\n",
        "Chamada da Função:\n",
        "\n",
        "A função cifra_cesar é chamada com os valores fornecidos pelo usuário.\n",
        "Melhorias Possíveis:\n",
        "\n",
        "Tratamento de caracteres minúsculos: Converter todo o texto para maiúsculas ou minúsculas antes de processar.\n",
        "Suporte a outros caracteres: Expandir o alfabeto para incluir outros caracteres como números e símbolos.\n",
        "Interface gráfica: Criar uma interface gráfica para facilitar o uso do programa.\n",
        "Criptografia mais forte: Combinar a Cifra de César com outras técnicas de criptografia para aumentar a segurança.\n",
        "Como usar:\n",
        "\n",
        "Salve o código como um arquivo Python (por exemplo, cifra_cesar.py).\n",
        "Execute o arquivo usando um interpretador Python.\n",
        "Siga as instruções na tela para inserir o texto, a rotação e o modo de operação.\n",
        "Exemplo:\n",
        "\n",
        "Se você digitar a mensagem \"OLA MUNDO\", a rotação 3 e escolher \"e\" para encriptar, o resultado será \"ROR TXRPH\". Para descriptografar, digite a mesma rotação e escolha \"d\".\n",
        "\n",
        "Observações:\n",
        "\n",
        "Segurança: A Cifra de César é considerada uma cifra muito simples e pode ser facilmente quebrada.\n",
        "Aplicações: Este programa pode ser utilizado para fins educacionais ou como um exemplo simples de criptografia.\n",
        "Observação:\n",
        "\n",
        "Esta implementação da Cifra de César é básica e serve como um ponto de partida para explorar conceitos de criptografia. Para aplicações reais, é recomendado utilizar algoritmos de criptografia mais robustos e seguros.\n",
        "\n",
        "Gostaria de explorar outras opções de criptografia ou tem alguma outra pergunta?\n",
        "\n",
        "Possíveis próximos passos:\n",
        "\n",
        "Implementar a Cifra de Vigenère: Uma cifra de substituição polialfabética mais complexa que a Cifra de César.\n",
        "Criar uma interface gráfica: Utilizar bibliotecas como Tkinter ou PyQt para criar uma interface mais amigável.\n",
        "Implementar um ataque de força bruta: Demonstrar como quebrar a Cifra de César para entender suas limitações.\n",
        "Explorar conceitos de criptografia: Aprender sobre chaves, algoritmos, hash, assinatura digital e outros tópicos relevantes."
      ],
      "metadata": {
        "id": "Ik4nlxnrk3d-"
      }
    }
  ]
}