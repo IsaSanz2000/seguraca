{
  "nbformat": 4,
  "nbformat_minor": 0,
  "metadata": {
    "colab": {
      "provenance": [],
      "authorship_tag": "ABX9TyNSyGURswcv1pJa4hRdS7nr",
      "include_colab_link": true
    },
    "kernelspec": {
      "name": "python3",
      "display_name": "Python 3"
    },
    "language_info": {
      "name": "python"
    }
  },
  "cells": [
    {
      "cell_type": "markdown",
      "metadata": {
        "id": "view-in-github",
        "colab_type": "text"
      },
      "source": [
        "<a href=\"https://colab.research.google.com/github/IsaSanz2000/seguraca/blob/main/Exercic%C3%ADo_Python.ipynb\" target=\"_parent\"><img src=\"https://colab.research.google.com/assets/colab-badge.svg\" alt=\"Open In Colab\"/></a>"
      ]
    },
    {
      "cell_type": "code",
      "execution_count": null,
      "metadata": {
        "colab": {
          "base_uri": "https://localhost:8080/"
        },
        "cellView": "form",
        "id": "WeKemy4XLdaw",
        "outputId": "8885fded-8239-4b0c-aaa8-cff14d9241ed"
      },
      "outputs": [
        {
          "output_type": "stream",
          "name": "stdout",
          "text": [
            "Olá, mundo!\n"
          ]
        }
      ],
      "source": [
        "# @title Óla, mundo\n",
        "print(\"Olá, mundo!\")"
      ]
    },
    {
      "cell_type": "code",
      "source": [
        "# @title Cálculos Simples\n",
        "numero1 = int(input(\"Digite um número: \"))\n",
        "numero2 = int(input(\"Digite um número: \"))\n",
        "numero3 = int(input(\"Digite um número: \"))\n",
        "soma = numero1 + numero2 + numero3\n",
        "subtracao = numero1 - numero2 - numero3\n",
        "multiplicacao = numero1 * numero2 * numero3\n",
        "divisao = numero1 / numero2 / numero3\n",
        "print(\"Soma:\", soma)\n",
        "print(\"Subtração:\", subtracao)\n",
        "print(\"Multiplicação:\", multiplicacao)\n",
        "print(\"Divisão:\", divisao)"
      ],
      "metadata": {
        "colab": {
          "base_uri": "https://localhost:8080/"
        },
        "id": "DV8Kmr1ZViDq",
        "outputId": "0bad97cc-f00f-45bf-c625-2face16d9b29"
      },
      "execution_count": null,
      "outputs": [
        {
          "output_type": "stream",
          "name": "stdout",
          "text": [
            "Digite um número: 45\n",
            "Digite um número: 66\n",
            "Digite um número: 94\n",
            "Soma: 205\n",
            "Subtração: -115\n",
            "Multiplicação: 279180\n",
            "Divisão: 0.007253384912959381\n"
          ]
        }
      ]
    },
    {
      "cell_type": "code",
      "source": [
        "# @title Entrada de Dados\n",
        "nome = input(\"Digite seu nome: \")\n",
        "print(\"Olá,\", nome + \"!\")\n",
        "data = input(\"qual a sua data de nascimento? \")\n",
        "Curso = input(\"Qual o seu curso? \")\n"
      ],
      "metadata": {
        "colab": {
          "base_uri": "https://localhost:8080/"
        },
        "id": "PWlmHm5jWBgF",
        "outputId": "51acc468-cd2d-4914-cf7d-8bb9a8269b3f"
      },
      "execution_count": null,
      "outputs": [
        {
          "name": "stdout",
          "output_type": "stream",
          "text": [
            "Digite seu nome: kjojoo\n",
            "Olá, kjojoo!\n",
            "qual a sua data de nascimento? 088700\n",
            "Qual o seu curso? 9u90\n"
          ]
        }
      ]
    },
    {
      "cell_type": "code",
      "source": [
        "# @title Condições\n",
        "numero = int(input(\"Digite um número: \"))\n",
        "if numero % 2 == 0:\n",
        "  print(\"O número é par.\")\n",
        "else:\n",
        "  print(\"O número é ímpar.\")"
      ],
      "metadata": {
        "colab": {
          "base_uri": "https://localhost:8080/"
        },
        "id": "lEtErPpeWe2K",
        "outputId": "8659561e-e659-4bc5-c9a1-39566cf4acb5"
      },
      "execution_count": null,
      "outputs": [
        {
          "output_type": "stream",
          "name": "stdout",
          "text": [
            "Digite um número: 7\n",
            "O número é ímpar.\n"
          ]
        }
      ]
    },
    {
      "cell_type": "code",
      "source": [
        "# @title Laços de Repetição\n",
        "for i in range(1, 11):\n",
        " print(i)"
      ],
      "metadata": {
        "colab": {
          "base_uri": "https://localhost:8080/"
        },
        "id": "6Cvz8EK_YLSr",
        "outputId": "795421f5-bdbe-4ffb-fa81-8e425fcb2ad4"
      },
      "execution_count": null,
      "outputs": [
        {
          "output_type": "stream",
          "name": "stdout",
          "text": [
            "1\n",
            "2\n",
            "3\n",
            "4\n",
            "5\n",
            "6\n",
            "7\n",
            "8\n",
            "9\n",
            "10\n"
          ]
        }
      ]
    },
    {
      "cell_type": "code",
      "source": [
        "# @title Calculadora Simples\n",
        "num1 = float(input(\"Digite o primeiro número: \"))\n",
        "num2 = float(input(\"Digite o segundo número: \"))\n",
        "operacao = input(\"Digite a operação (+, -, *, /, %, ==, >, <, **): \")\n",
        "\n",
        "if operacao == \"+\":\n",
        "  resultado = num1 + num2\n",
        "elif operacao == \"-\":\n",
        "  resultado = num1 - num2\n",
        "elif operacao == \"*\":\n",
        "  resultado = num1 * num2\n",
        "elif operacao == \"/\":\n",
        "  resultado = num1 / num2\n",
        "elif operacao == \"%\":\n",
        "  resultado = num1 % num2\n",
        "elif operacao == \"==\":\n",
        "  resultado = num1 == num2\n",
        "elif operacao == \">\":\n",
        "  resultado = num1 > num2\n",
        "elif operacao == \"<\":\n",
        "  resultado = num1 < num2\n",
        "elif operacao == \"**\":\n",
        "  resultado = num1 ** num2\n",
        "else:\n",
        "  print(\"Operação inválida.\")\n",
        "print(\"Resultado:\", resultado)"
      ],
      "metadata": {
        "colab": {
          "base_uri": "https://localhost:8080/"
        },
        "id": "yacazJKZF2vN",
        "outputId": "bbbcdc70-840c-4583-c9ca-b668861c56e1"
      },
      "execution_count": null,
      "outputs": [
        {
          "output_type": "stream",
          "name": "stdout",
          "text": [
            "Digite o primeiro número: 9\n",
            "Digite o segundo número: 8\n",
            "Digite a operação (+, -, *, /, %, ==, >, <, **): **\n",
            "Resultado: 43046721.0\n"
          ]
        }
      ]
    },
    {
      "cell_type": "code",
      "source": [
        "# @title Listas\n",
        "nomes = [\"Alice\", \"Bob\", \"Charlie\", \"Ana\", \"Léo\", \"Isabella\", \"Beatriz\", \"Hercules\"]\n",
        "for nome in nomes:\n",
        "  print(nome)"
      ],
      "metadata": {
        "colab": {
          "base_uri": "https://localhost:8080/"
        },
        "id": "z56h7noVGyHd",
        "outputId": "2547d2c8-a5ec-4029-c9df-9e4c2fe018f3"
      },
      "execution_count": null,
      "outputs": [
        {
          "output_type": "stream",
          "name": "stdout",
          "text": [
            "Alice\n",
            "Bob\n",
            "Charlie\n",
            "Ana\n",
            "Léo\n",
            "Isabella\n",
            "Beatriz\n",
            "Hercules\n"
          ]
        }
      ]
    },
    {
      "cell_type": "code",
      "source": [
        "# @title Funções\n",
        "import math\n",
        "\n",
        "def calcular_area_circulo(raio):\n",
        "  area = math.pi * raio**2\n",
        "  return area\n",
        "\n",
        "raio = float(input(\"Digite o raio do círculo: \"))\n",
        "area = calcular_area_circulo(raio)\n",
        "print(\"A área do círculo é:\", area)\n",
        "\n"
      ],
      "metadata": {
        "colab": {
          "base_uri": "https://localhost:8080/"
        },
        "id": "iTrcgnIbHbqp",
        "outputId": "0a4175c4-8b83-40f3-d763-606bfd49d0bf"
      },
      "execution_count": null,
      "outputs": [
        {
          "output_type": "stream",
          "name": "stdout",
          "text": [
            "Digite o raio do círculo: 8\n",
            "A área do círculo é: 201.06192982974676\n"
          ]
        }
      ]
    }
  ]
}