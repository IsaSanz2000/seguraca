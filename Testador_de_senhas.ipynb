{
  "nbformat": 4,
  "nbformat_minor": 0,
  "metadata": {
    "colab": {
      "provenance": [],
      "authorship_tag": "ABX9TyNcB6J19ODFk5w6YtAvogGD",
      "include_colab_link": true
    },
    "kernelspec": {
      "name": "python3",
      "display_name": "Python 3"
    },
    "language_info": {
      "name": "python"
    }
  },
  "cells": [
    {
      "cell_type": "markdown",
      "metadata": {
        "id": "view-in-github",
        "colab_type": "text"
      },
      "source": [
        "<a href=\"https://colab.research.google.com/github/IsaSanz2000/seguraca/blob/main/Testador_de_senhas.ipynb\" target=\"_parent\"><img src=\"https://colab.research.google.com/assets/colab-badge.svg\" alt=\"Open In Colab\"/></a>"
      ]
    },
    {
      "cell_type": "code",
      "execution_count": null,
      "metadata": {
        "colab": {
          "base_uri": "https://localhost:8080/"
        },
        "id": "Y3CVB1ZDNYPK",
        "outputId": "0a0456cc-df1e-4c9d-e4f9-c43f29a9fcc8"
      },
      "outputs": [
        {
          "output_type": "stream",
          "name": "stdout",
          "text": [
            "Digite sua senha: 9455\n",
            "Sua senha é considerada: Fraca\n"
          ]
        }
      ],
      "source": [
        "import string\n",
        "\n",
        "def verificar_senha(senha):\n",
        "    \"\"\"Verifica a força de uma senha e retorna sua classificação.\n",
        "\n",
        "    Args:\n",
        "        senha (str): A senha a ser analisada.\n",
        "\n",
        "    Returns:\n",
        "        str: A classificação da senha (\"Fraca\", \"Média\" ou \"Forte\").\n",
        "    \"\"\"\n",
        "\n",
        "    # Pontuação inicial\n",
        "    pontuacao = 0\n",
        "\n",
        "    # Verificar comprimento\n",
        "    if len(senha) >= 8:\n",
        "        pontuacao += 1\n",
        "\n",
        "    # Verificar tipos de caracteres\n",
        "    if any(c.islower() for c in senha):\n",
        "        pontuacao += 1\n",
        "    if any(c.isupper() for c in senha):\n",
        "        pontuacao += 1\n",
        "    if any(c.isdigit() for c in senha):\n",
        "        pontuacao += 1\n",
        "    if any(c in string.punctuation for c in senha):\n",
        "        pontuacao += 1\n",
        "\n",
        "    # Classificar a senha\n",
        "    if pontuacao <= 2:\n",
        "        return \"Fraca\"\n",
        "    elif pontuacao <= 4:\n",
        "        return \"Média\"\n",
        "    else:\n",
        "        return \"Forte\"\n",
        "\n",
        "# Solicitar a senha ao usuário\n",
        "senha = input(\"Digite sua senha: \")\n",
        "\n",
        "# Verificar e imprimir a classificação\n",
        "classificacao = verificar_senha(senha)\n",
        "print(f\"Sua senha é considerada: {classificacao}\")"
      ]
    }
  ]
}